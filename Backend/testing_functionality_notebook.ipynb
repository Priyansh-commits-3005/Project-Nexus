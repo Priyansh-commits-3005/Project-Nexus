{
 "cells": [
  {
   "cell_type": "code",
   "execution_count": 3,
   "id": "c0727823",
   "metadata": {},
   "outputs": [],
   "source": [
    "import getpass\n",
    "import os\n",
    "\n",
    "if not os.environ.get(\"GOOGLE_API_KEY\"):\n",
    "  os.environ[\"GOOGLE_API_KEY\"] = getpass.getpass(\"Enter API key for Google Gemini: \")\n",
    "\n",
    "from langchain.chat_models import init_chat_model\n",
    "\n",
    "# model = init_chat_model(\"gemini-2.0-flash\", model_provider=\"google_genai\")\n",
    "model = init_chat_model('deepseek-r1:8b', model_provider='ollama')"
   ]
  },
  {
   "cell_type": "code",
   "execution_count": 4,
   "id": "ef944797",
   "metadata": {},
   "outputs": [
    {
     "name": "stdout",
     "output_type": "stream",
     "text": [
      "<think>\n",
      "Okay, the user just said \"Hi! I'm Bob\" and my instructions were to reply with only one word. That's pretty straightforward.\n",
      "\n",
      "Hmm, they're introducing themselves as Bob - probably a common name but maybe they want me to acknowledge it? The system restriction is 1-word replies though... \n",
      "\n",
      "Let me think about possible responses: \n",
      "- \"Hello\" would be the most basic greeting\n",
      "- \"Bob\" could work if I just need to name-drop\n",
      "- \"Hi\" might be too similar to what they said\n",
      "\n",
      "The safest neutral word that fits both the greeting and acknowledges their identity is probably \"Hello\". It's polite, doesn't require interpretation, and keeps it simple within the constraints. \n",
      "\n",
      "I wonder if this is some kind of test for my one-word response ability? Or maybe just a casual interaction with limitations. Either way, sticking to clear system instructions seems wise here.\n",
      "</think>\n",
      "Hello\n"
     ]
    }
   ],
   "source": [
    "from langchain_core.messages import HumanMessage,SystemMessage\n",
    "\n",
    "messages = [SystemMessage(content = \"you are only allowed to reply in 1 word\"),\n",
    "    HumanMessage(content=\"Hi! I'm Bob\")]\n",
    "response = model.invoke(messages)\n",
    "print(response.content)"
   ]
  },
  {
   "cell_type": "code",
   "execution_count": null,
   "id": "e10b7535",
   "metadata": {},
   "outputs": [],
   "source": []
  }
 ],
 "metadata": {
  "kernelspec": {
   "display_name": "nexus_venv",
   "language": "python",
   "name": "python3"
  },
  "language_info": {
   "codemirror_mode": {
    "name": "ipython",
    "version": 3
   },
   "file_extension": ".py",
   "mimetype": "text/x-python",
   "name": "python",
   "nbconvert_exporter": "python",
   "pygments_lexer": "ipython3",
   "version": "3.13.4"
  }
 },
 "nbformat": 4,
 "nbformat_minor": 5
}
