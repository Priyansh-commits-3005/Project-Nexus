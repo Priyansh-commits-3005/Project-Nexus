{
 "cells": [
  {
   "cell_type": "code",
   "execution_count": null,
   "id": "c0727823",
   "metadata": {},
   "outputs": [],
   "source": [
    "import getpass\n",
    "import os\n",
    "\n",
    "if not os.environ.get(\"GOOGLE_API_KEY\"):\n",
    "  os.environ[\"GOOGLE_API_KEY\"] = getpass.getpass(\"Enter API key for Google Gemini: \")\n",
    "\n",
    "from langchain.chat_models import init_chat_model\n",
    "\n",
    "# model = init_chat_model(\"gemini-2.0-flash\", model_provider=\"google_genai\")\n",
    "model = init_chat_model('deepseek-r1:8b', model_provider='ollama')"
   ]
  },
  {
   "cell_type": "code",
   "execution_count": 2,
   "id": "ef944797",
   "metadata": {},
   "outputs": [
    {
     "name": "stdout",
     "output_type": "stream",
     "text": [
      "Hello.\n"
     ]
    }
   ],
   "source": [
    "from langchain_core.messages import HumanMessage,SystemMessage\n",
    "\n",
    "messages = [SystemMessage(content = \"you are only allowed to reply in 1 word\"),\n",
    "    HumanMessage(content=\"Hi! I'm Bob\")]\n",
    "response = model.invoke(messages)\n",
    "print(response.content)"
   ]
  }
 ],
 "metadata": {
  "kernelspec": {
   "display_name": "nexus_venv",
   "language": "python",
   "name": "python3"
  },
  "language_info": {
   "codemirror_mode": {
    "name": "ipython",
    "version": 3
   },
   "file_extension": ".py",
   "mimetype": "text/x-python",
   "name": "python",
   "nbconvert_exporter": "python",
   "pygments_lexer": "ipython3",
   "version": "3.13.5"
  }
 },
 "nbformat": 4,
 "nbformat_minor": 5
}
